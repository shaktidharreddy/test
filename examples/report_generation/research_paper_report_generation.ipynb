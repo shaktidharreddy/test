{
  "cells": [
    {
      "cell_type": "markdown",
      "metadata": {
        "id": "0w1c_cWgyYto"
      },
      "source": [
        "# Research Paper Report Generating Agent.\n",
        "\n",
        "<a href=\"https://colab.research.google.com/github/run-llama/llamacloud-demo/blob/main/examples/report_generation/research_paper_report_generation.ipynb\" target=\"_parent\"><img src=\"https://colab.research.google.com/assets/colab-badge.svg\" alt=\"Open In Colab\"/></a>\n",
        "\n",
        "Report generation is a frequent use case among our enterprise customers. We are developing a demo for report generation based on a practical use case that we commonly encounter.\n",
        "\n",
        "The pace at which AI papers are being published on arXiv is incredibly fast, and many people struggle to keep up with the latest updates. It would be valuable to create a report based on papers published by criteria such as date, author, company, or affiliation or specific papers in the outline from the user.\n",
        "\n",
        "Here’s a proposed workflow:\n",
        "1. Use the arXiv API to pull daily papers.\n",
        "2. Generate metadata such as publication date, update date, authors, research lab, etc.\n",
        "3. Index the data on LlamaCloud.\n",
        "4. Repeat steps 1-3 on a daily basis.\n",
        "5. Create an outline for the report. (Ideally from user)\n",
        "6. Develop a report-generating agent.\n",
        "7. Generate report based on the outline.\n",
        "\n",
        "**NOTE:**\n",
        "\n",
        "1. Please adjust the paper titles in the outline based on the date the notebook was run, as they may differ.\n",
        "2. For this iteration we did not use filters during retrieval or querying stage.\n",
        "\n",
        "![research_paper_report_generation](https://github.com/run-llama/llamacloud-demo/blob/main/examples/report_generation/research_paper_report_generation.png?raw=1)"
      ]
    },
    {
      "cell_type": "markdown",
      "metadata": {
        "id": "4qXNwRrA0BCE"
      },
      "source": [
        "### Installation\n",
        "\n",
        "We'll be utilizing various packages along with LlamaIndex:\n",
        "\n",
        "1. LlamaCloud - For creating a managed index in the cloud.\n",
        "2. LlamaParse - For effective document parsing.\n",
        "3. arxiv - For accessing the latest research papers."
      ]
    },
    {
      "cell_type": "code",
      "execution_count": 1,
      "metadata": {
        "colab": {
          "base_uri": "https://localhost:8080/"
        },
        "id": "r6lfvAIl0Cmt",
        "outputId": "b50eb9d9-b14a-4a91-9949-d19d4bd4bdd3"
      },
      "outputs": [
        {
          "output_type": "stream",
          "name": "stdout",
          "text": [
            "Collecting llama-index\n",
            "  Downloading llama_index-0.12.11-py3-none-any.whl.metadata (12 kB)\n",
            "Collecting llama-index-indices-managed-llama-cloud\n",
            "  Downloading llama_index_indices_managed_llama_cloud-0.6.3-py3-none-any.whl.metadata (3.8 kB)\n",
            "Collecting llama-parse\n",
            "  Downloading llama_parse-0.5.19-py3-none-any.whl.metadata (7.0 kB)\n",
            "Collecting llama-cloud\n",
            "  Downloading llama_cloud-0.1.9-py3-none-any.whl.metadata (911 bytes)\n",
            "Collecting arxiv\n",
            "  Downloading arxiv-2.1.3-py3-none-any.whl.metadata (6.1 kB)\n",
            "Collecting llama-index-agent-openai<0.5.0,>=0.4.0 (from llama-index)\n",
            "  Downloading llama_index_agent_openai-0.4.2-py3-none-any.whl.metadata (727 bytes)\n",
            "Collecting llama-index-cli<0.5.0,>=0.4.0 (from llama-index)\n",
            "  Downloading llama_index_cli-0.4.0-py3-none-any.whl.metadata (1.5 kB)\n",
            "Collecting llama-index-core<0.13.0,>=0.12.11 (from llama-index)\n",
            "  Downloading llama_index_core-0.12.11-py3-none-any.whl.metadata (2.5 kB)\n",
            "Collecting llama-index-embeddings-openai<0.4.0,>=0.3.0 (from llama-index)\n",
            "  Downloading llama_index_embeddings_openai-0.3.1-py3-none-any.whl.metadata (684 bytes)\n",
            "Collecting llama-index-llms-openai<0.4.0,>=0.3.0 (from llama-index)\n",
            "  Downloading llama_index_llms_openai-0.3.13-py3-none-any.whl.metadata (3.3 kB)\n",
            "Collecting llama-index-multi-modal-llms-openai<0.5.0,>=0.4.0 (from llama-index)\n",
            "  Downloading llama_index_multi_modal_llms_openai-0.4.2-py3-none-any.whl.metadata (726 bytes)\n",
            "Collecting llama-index-program-openai<0.4.0,>=0.3.0 (from llama-index)\n",
            "  Downloading llama_index_program_openai-0.3.1-py3-none-any.whl.metadata (764 bytes)\n",
            "Collecting llama-index-question-gen-openai<0.4.0,>=0.3.0 (from llama-index)\n",
            "  Downloading llama_index_question_gen_openai-0.3.0-py3-none-any.whl.metadata (783 bytes)\n",
            "Collecting llama-index-readers-file<0.5.0,>=0.4.0 (from llama-index)\n",
            "  Downloading llama_index_readers_file-0.4.3-py3-none-any.whl.metadata (5.4 kB)\n",
            "Collecting llama-index-readers-llama-parse>=0.4.0 (from llama-index)\n",
            "  Downloading llama_index_readers_llama_parse-0.4.0-py3-none-any.whl.metadata (3.6 kB)\n",
            "Requirement already satisfied: nltk>3.8.1 in /usr/local/lib/python3.11/dist-packages (from llama-index) (3.9.1)\n",
            "Requirement already satisfied: click<9.0.0,>=8.1.7 in /usr/local/lib/python3.11/dist-packages (from llama-parse) (8.1.8)\n",
            "Requirement already satisfied: pydantic!=2.10 in /usr/local/lib/python3.11/dist-packages (from llama-parse) (2.10.5)\n",
            "Requirement already satisfied: certifi<2025.0.0,>=2024.7.4 in /usr/local/lib/python3.11/dist-packages (from llama-cloud) (2024.12.14)\n",
            "Requirement already satisfied: httpx>=0.20.0 in /usr/local/lib/python3.11/dist-packages (from llama-cloud) (0.28.1)\n",
            "Collecting feedparser~=6.0.10 (from arxiv)\n",
            "  Downloading feedparser-6.0.11-py3-none-any.whl.metadata (2.4 kB)\n",
            "Requirement already satisfied: requests~=2.32.0 in /usr/local/lib/python3.11/dist-packages (from arxiv) (2.32.3)\n",
            "Collecting sgmllib3k (from feedparser~=6.0.10->arxiv)\n",
            "  Downloading sgmllib3k-1.0.0.tar.gz (5.8 kB)\n",
            "  Preparing metadata (setup.py) ... \u001b[?25l\u001b[?25hdone\n",
            "Requirement already satisfied: anyio in /usr/local/lib/python3.11/dist-packages (from httpx>=0.20.0->llama-cloud) (3.7.1)\n",
            "Requirement already satisfied: httpcore==1.* in /usr/local/lib/python3.11/dist-packages (from httpx>=0.20.0->llama-cloud) (1.0.7)\n",
            "Requirement already satisfied: idna in /usr/local/lib/python3.11/dist-packages (from httpx>=0.20.0->llama-cloud) (3.10)\n",
            "Requirement already satisfied: h11<0.15,>=0.13 in /usr/local/lib/python3.11/dist-packages (from httpcore==1.*->httpx>=0.20.0->llama-cloud) (0.14.0)\n",
            "Requirement already satisfied: openai>=1.14.0 in /usr/local/lib/python3.11/dist-packages (from llama-index-agent-openai<0.5.0,>=0.4.0->llama-index) (1.59.6)\n",
            "Requirement already satisfied: PyYAML>=6.0.1 in /usr/local/lib/python3.11/dist-packages (from llama-index-core<0.13.0,>=0.12.11->llama-index) (6.0.2)\n",
            "Requirement already satisfied: SQLAlchemy>=1.4.49 in /usr/local/lib/python3.11/dist-packages (from SQLAlchemy[asyncio]>=1.4.49->llama-index-core<0.13.0,>=0.12.11->llama-index) (2.0.37)\n",
            "Requirement already satisfied: aiohttp<4.0.0,>=3.8.6 in /usr/local/lib/python3.11/dist-packages (from llama-index-core<0.13.0,>=0.12.11->llama-index) (3.11.11)\n",
            "Collecting dataclasses-json (from llama-index-core<0.13.0,>=0.12.11->llama-index)\n",
            "  Downloading dataclasses_json-0.6.7-py3-none-any.whl.metadata (25 kB)\n",
            "Requirement already satisfied: deprecated>=1.2.9.3 in /usr/local/lib/python3.11/dist-packages (from llama-index-core<0.13.0,>=0.12.11->llama-index) (1.2.15)\n",
            "Collecting dirtyjson<2.0.0,>=1.0.8 (from llama-index-core<0.13.0,>=0.12.11->llama-index)\n",
            "  Downloading dirtyjson-1.0.8-py3-none-any.whl.metadata (11 kB)\n",
            "Collecting filetype<2.0.0,>=1.2.0 (from llama-index-core<0.13.0,>=0.12.11->llama-index)\n",
            "  Downloading filetype-1.2.0-py2.py3-none-any.whl.metadata (6.5 kB)\n",
            "Requirement already satisfied: fsspec>=2023.5.0 in /usr/local/lib/python3.11/dist-packages (from llama-index-core<0.13.0,>=0.12.11->llama-index) (2024.10.0)\n",
            "Requirement already satisfied: nest-asyncio<2.0.0,>=1.5.8 in /usr/local/lib/python3.11/dist-packages (from llama-index-core<0.13.0,>=0.12.11->llama-index) (1.6.0)\n",
            "Requirement already satisfied: networkx>=3.0 in /usr/local/lib/python3.11/dist-packages (from llama-index-core<0.13.0,>=0.12.11->llama-index) (3.4.2)\n",
            "Requirement already satisfied: numpy in /usr/local/lib/python3.11/dist-packages (from llama-index-core<0.13.0,>=0.12.11->llama-index) (1.26.4)\n",
            "Requirement already satisfied: pillow>=9.0.0 in /usr/local/lib/python3.11/dist-packages (from llama-index-core<0.13.0,>=0.12.11->llama-index) (11.1.0)\n",
            "Requirement already satisfied: tenacity!=8.4.0,<10.0.0,>=8.2.0 in /usr/local/lib/python3.11/dist-packages (from llama-index-core<0.13.0,>=0.12.11->llama-index) (9.0.0)\n",
            "Collecting tiktoken>=0.3.3 (from llama-index-core<0.13.0,>=0.12.11->llama-index)\n",
            "  Downloading tiktoken-0.8.0-cp311-cp311-manylinux_2_17_x86_64.manylinux2014_x86_64.whl.metadata (6.6 kB)\n",
            "Requirement already satisfied: tqdm<5.0.0,>=4.66.1 in /usr/local/lib/python3.11/dist-packages (from llama-index-core<0.13.0,>=0.12.11->llama-index) (4.67.1)\n",
            "Requirement already satisfied: typing-extensions>=4.5.0 in /usr/local/lib/python3.11/dist-packages (from llama-index-core<0.13.0,>=0.12.11->llama-index) (4.12.2)\n",
            "Collecting typing-inspect>=0.8.0 (from llama-index-core<0.13.0,>=0.12.11->llama-index)\n",
            "  Downloading typing_inspect-0.9.0-py3-none-any.whl.metadata (1.5 kB)\n",
            "Requirement already satisfied: wrapt in /usr/local/lib/python3.11/dist-packages (from llama-index-core<0.13.0,>=0.12.11->llama-index) (1.17.0)\n",
            "Requirement already satisfied: beautifulsoup4<5.0.0,>=4.12.3 in /usr/local/lib/python3.11/dist-packages (from llama-index-readers-file<0.5.0,>=0.4.0->llama-index) (4.12.3)\n",
            "Requirement already satisfied: pandas in /usr/local/lib/python3.11/dist-packages (from llama-index-readers-file<0.5.0,>=0.4.0->llama-index) (2.2.2)\n",
            "Collecting pypdf<6.0.0,>=5.1.0 (from llama-index-readers-file<0.5.0,>=0.4.0->llama-index)\n",
            "  Downloading pypdf-5.1.0-py3-none-any.whl.metadata (7.2 kB)\n",
            "Collecting striprtf<0.0.27,>=0.0.26 (from llama-index-readers-file<0.5.0,>=0.4.0->llama-index)\n",
            "  Downloading striprtf-0.0.26-py3-none-any.whl.metadata (2.1 kB)\n",
            "Requirement already satisfied: joblib in /usr/local/lib/python3.11/dist-packages (from nltk>3.8.1->llama-index) (1.4.2)\n",
            "Requirement already satisfied: regex>=2021.8.3 in /usr/local/lib/python3.11/dist-packages (from nltk>3.8.1->llama-index) (2024.11.6)\n",
            "Requirement already satisfied: annotated-types>=0.6.0 in /usr/local/lib/python3.11/dist-packages (from pydantic!=2.10->llama-parse) (0.7.0)\n",
            "Requirement already satisfied: pydantic-core==2.27.2 in /usr/local/lib/python3.11/dist-packages (from pydantic!=2.10->llama-parse) (2.27.2)\n",
            "Requirement already satisfied: charset-normalizer<4,>=2 in /usr/local/lib/python3.11/dist-packages (from requests~=2.32.0->arxiv) (3.4.1)\n",
            "Requirement already satisfied: urllib3<3,>=1.21.1 in /usr/local/lib/python3.11/dist-packages (from requests~=2.32.0->arxiv) (2.3.0)\n",
            "Requirement already satisfied: aiohappyeyeballs>=2.3.0 in /usr/local/lib/python3.11/dist-packages (from aiohttp<4.0.0,>=3.8.6->llama-index-core<0.13.0,>=0.12.11->llama-index) (2.4.4)\n",
            "Requirement already satisfied: aiosignal>=1.1.2 in /usr/local/lib/python3.11/dist-packages (from aiohttp<4.0.0,>=3.8.6->llama-index-core<0.13.0,>=0.12.11->llama-index) (1.3.2)\n",
            "Requirement already satisfied: attrs>=17.3.0 in /usr/local/lib/python3.11/dist-packages (from aiohttp<4.0.0,>=3.8.6->llama-index-core<0.13.0,>=0.12.11->llama-index) (24.3.0)\n",
            "Requirement already satisfied: frozenlist>=1.1.1 in /usr/local/lib/python3.11/dist-packages (from aiohttp<4.0.0,>=3.8.6->llama-index-core<0.13.0,>=0.12.11->llama-index) (1.5.0)\n",
            "Requirement already satisfied: multidict<7.0,>=4.5 in /usr/local/lib/python3.11/dist-packages (from aiohttp<4.0.0,>=3.8.6->llama-index-core<0.13.0,>=0.12.11->llama-index) (6.1.0)\n",
            "Requirement already satisfied: propcache>=0.2.0 in /usr/local/lib/python3.11/dist-packages (from aiohttp<4.0.0,>=3.8.6->llama-index-core<0.13.0,>=0.12.11->llama-index) (0.2.1)\n",
            "Requirement already satisfied: yarl<2.0,>=1.17.0 in /usr/local/lib/python3.11/dist-packages (from aiohttp<4.0.0,>=3.8.6->llama-index-core<0.13.0,>=0.12.11->llama-index) (1.18.3)\n",
            "Requirement already satisfied: soupsieve>1.2 in /usr/local/lib/python3.11/dist-packages (from beautifulsoup4<5.0.0,>=4.12.3->llama-index-readers-file<0.5.0,>=0.4.0->llama-index) (2.6)\n",
            "Requirement already satisfied: distro<2,>=1.7.0 in /usr/local/lib/python3.11/dist-packages (from openai>=1.14.0->llama-index-agent-openai<0.5.0,>=0.4.0->llama-index) (1.9.0)\n",
            "Requirement already satisfied: jiter<1,>=0.4.0 in /usr/local/lib/python3.11/dist-packages (from openai>=1.14.0->llama-index-agent-openai<0.5.0,>=0.4.0->llama-index) (0.8.2)\n",
            "Requirement already satisfied: sniffio in /usr/local/lib/python3.11/dist-packages (from openai>=1.14.0->llama-index-agent-openai<0.5.0,>=0.4.0->llama-index) (1.3.1)\n",
            "Requirement already satisfied: greenlet!=0.4.17 in /usr/local/lib/python3.11/dist-packages (from SQLAlchemy>=1.4.49->SQLAlchemy[asyncio]>=1.4.49->llama-index-core<0.13.0,>=0.12.11->llama-index) (3.1.1)\n",
            "Collecting mypy-extensions>=0.3.0 (from typing-inspect>=0.8.0->llama-index-core<0.13.0,>=0.12.11->llama-index)\n",
            "  Downloading mypy_extensions-1.0.0-py3-none-any.whl.metadata (1.1 kB)\n",
            "Collecting marshmallow<4.0.0,>=3.18.0 (from dataclasses-json->llama-index-core<0.13.0,>=0.12.11->llama-index)\n",
            "  Downloading marshmallow-3.25.1-py3-none-any.whl.metadata (7.3 kB)\n",
            "Requirement already satisfied: python-dateutil>=2.8.2 in /usr/local/lib/python3.11/dist-packages (from pandas->llama-index-readers-file<0.5.0,>=0.4.0->llama-index) (2.8.2)\n",
            "Requirement already satisfied: pytz>=2020.1 in /usr/local/lib/python3.11/dist-packages (from pandas->llama-index-readers-file<0.5.0,>=0.4.0->llama-index) (2024.2)\n",
            "Requirement already satisfied: tzdata>=2022.7 in /usr/local/lib/python3.11/dist-packages (from pandas->llama-index-readers-file<0.5.0,>=0.4.0->llama-index) (2024.2)\n",
            "Requirement already satisfied: packaging>=17.0 in /usr/local/lib/python3.11/dist-packages (from marshmallow<4.0.0,>=3.18.0->dataclasses-json->llama-index-core<0.13.0,>=0.12.11->llama-index) (24.2)\n",
            "Requirement already satisfied: six>=1.5 in /usr/local/lib/python3.11/dist-packages (from python-dateutil>=2.8.2->pandas->llama-index-readers-file<0.5.0,>=0.4.0->llama-index) (1.17.0)\n",
            "Downloading llama_index-0.12.11-py3-none-any.whl (6.9 kB)\n",
            "Downloading llama_index_indices_managed_llama_cloud-0.6.3-py3-none-any.whl (11 kB)\n",
            "Downloading llama_parse-0.5.19-py3-none-any.whl (15 kB)\n",
            "Downloading llama_cloud-0.1.9-py3-none-any.whl (240 kB)\n",
            "\u001b[2K   \u001b[90m━━━━━━━━━━━━━━━━━━━━━━━━━━━━━━━━━━━━━━━━\u001b[0m \u001b[32m241.0/241.0 kB\u001b[0m \u001b[31m6.4 MB/s\u001b[0m eta \u001b[36m0:00:00\u001b[0m\n",
            "\u001b[?25hDownloading arxiv-2.1.3-py3-none-any.whl (11 kB)\n",
            "Downloading feedparser-6.0.11-py3-none-any.whl (81 kB)\n",
            "\u001b[2K   \u001b[90m━━━━━━━━━━━━━━━━━━━━━━━━━━━━━━━━━━━━━━━━\u001b[0m \u001b[32m81.3/81.3 kB\u001b[0m \u001b[31m3.4 MB/s\u001b[0m eta \u001b[36m0:00:00\u001b[0m\n",
            "\u001b[?25hDownloading llama_index_agent_openai-0.4.2-py3-none-any.whl (13 kB)\n",
            "Downloading llama_index_cli-0.4.0-py3-none-any.whl (27 kB)\n",
            "Downloading llama_index_core-0.12.11-py3-none-any.whl (1.6 MB)\n",
            "\u001b[2K   \u001b[90m━━━━━━━━━━━━━━━━━━━━━━━━━━━━━━━━━━━━━━━━\u001b[0m \u001b[32m1.6/1.6 MB\u001b[0m \u001b[31m25.9 MB/s\u001b[0m eta \u001b[36m0:00:00\u001b[0m\n",
            "\u001b[?25hDownloading llama_index_embeddings_openai-0.3.1-py3-none-any.whl (6.2 kB)\n",
            "Downloading llama_index_llms_openai-0.3.13-py3-none-any.whl (14 kB)\n",
            "Downloading llama_index_multi_modal_llms_openai-0.4.2-py3-none-any.whl (5.9 kB)\n",
            "Downloading llama_index_program_openai-0.3.1-py3-none-any.whl (5.3 kB)\n",
            "Downloading llama_index_question_gen_openai-0.3.0-py3-none-any.whl (2.9 kB)\n",
            "Downloading llama_index_readers_file-0.4.3-py3-none-any.whl (38 kB)\n",
            "Downloading llama_index_readers_llama_parse-0.4.0-py3-none-any.whl (2.5 kB)\n",
            "Downloading dirtyjson-1.0.8-py3-none-any.whl (25 kB)\n",
            "Downloading filetype-1.2.0-py2.py3-none-any.whl (19 kB)\n",
            "Downloading pypdf-5.1.0-py3-none-any.whl (297 kB)\n",
            "\u001b[2K   \u001b[90m━━━━━━━━━━━━━━━━━━━━━━━━━━━━━━━━━━━━━━━━\u001b[0m \u001b[32m298.0/298.0 kB\u001b[0m \u001b[31m16.2 MB/s\u001b[0m eta \u001b[36m0:00:00\u001b[0m\n",
            "\u001b[?25hDownloading striprtf-0.0.26-py3-none-any.whl (6.9 kB)\n",
            "Downloading tiktoken-0.8.0-cp311-cp311-manylinux_2_17_x86_64.manylinux2014_x86_64.whl (1.2 MB)\n",
            "\u001b[2K   \u001b[90m━━━━━━━━━━━━━━━━━━━━━━━━━━━━━━━━━━━━━━━━\u001b[0m \u001b[32m1.2/1.2 MB\u001b[0m \u001b[31m40.5 MB/s\u001b[0m eta \u001b[36m0:00:00\u001b[0m\n",
            "\u001b[?25hDownloading typing_inspect-0.9.0-py3-none-any.whl (8.8 kB)\n",
            "Downloading dataclasses_json-0.6.7-py3-none-any.whl (28 kB)\n",
            "Downloading marshmallow-3.25.1-py3-none-any.whl (49 kB)\n",
            "\u001b[2K   \u001b[90m━━━━━━━━━━━━━━━━━━━━━━━━━━━━━━━━━━━━━━━━\u001b[0m \u001b[32m49.6/49.6 kB\u001b[0m \u001b[31m2.9 MB/s\u001b[0m eta \u001b[36m0:00:00\u001b[0m\n",
            "\u001b[?25hDownloading mypy_extensions-1.0.0-py3-none-any.whl (4.7 kB)\n",
            "Building wheels for collected packages: sgmllib3k\n",
            "  Building wheel for sgmllib3k (setup.py) ... \u001b[?25l\u001b[?25hdone\n",
            "  Created wheel for sgmllib3k: filename=sgmllib3k-1.0.0-py3-none-any.whl size=6047 sha256=c9513dbf495f76834e941c324ad14c6b369639f194450087b9a9107996604680\n",
            "  Stored in directory: /root/.cache/pip/wheels/3b/25/2a/105d6a15df6914f4d15047691c6c28f9052cc1173e40285d03\n",
            "Successfully built sgmllib3k\n",
            "Installing collected packages: striprtf, sgmllib3k, filetype, dirtyjson, pypdf, mypy-extensions, marshmallow, feedparser, typing-inspect, tiktoken, arxiv, llama-cloud, dataclasses-json, llama-index-core, llama-parse, llama-index-readers-file, llama-index-llms-openai, llama-index-indices-managed-llama-cloud, llama-index-embeddings-openai, llama-index-readers-llama-parse, llama-index-multi-modal-llms-openai, llama-index-cli, llama-index-agent-openai, llama-index-program-openai, llama-index-question-gen-openai, llama-index\n",
            "Successfully installed arxiv-2.1.3 dataclasses-json-0.6.7 dirtyjson-1.0.8 feedparser-6.0.11 filetype-1.2.0 llama-cloud-0.1.9 llama-index-0.12.11 llama-index-agent-openai-0.4.2 llama-index-cli-0.4.0 llama-index-core-0.12.11 llama-index-embeddings-openai-0.3.1 llama-index-indices-managed-llama-cloud-0.6.3 llama-index-llms-openai-0.3.13 llama-index-multi-modal-llms-openai-0.4.2 llama-index-program-openai-0.3.1 llama-index-question-gen-openai-0.3.0 llama-index-readers-file-0.4.3 llama-index-readers-llama-parse-0.4.0 llama-parse-0.5.19 marshmallow-3.25.1 mypy-extensions-1.0.0 pypdf-5.1.0 sgmllib3k-1.0.0 striprtf-0.0.26 tiktoken-0.8.0 typing-inspect-0.9.0\n"
          ]
        }
      ],
      "source": [
        "!pip install -U llama-index llama-index-indices-managed-llama-cloud llama-parse llama-cloud arxiv"
      ]
    },
    {
      "cell_type": "code",
      "source": [],
      "metadata": {
        "id": "ZW6FOZa1v1_T"
      },
      "execution_count": null,
      "outputs": []
    },
    {
      "cell_type": "markdown",
      "metadata": {
        "id": "9oCXpvCDvaDa"
      },
      "source": [
        "### SetupAPI Keys\n",
        "\n",
        "Set up the `LLAMA_CLOUD_API_KEY` and `OPENAI_API_KEY` for accessing the LlamaCloud managed index and OpenAI LLMs."
      ]
    },
    {
      "cell_type": "code",
      "execution_count": 2,
      "metadata": {
        "id": "jG8v-K8Suxet"
      },
      "outputs": [],
      "source": [
        "import nest_asyncio\n",
        "\n",
        "nest_asyncio.apply()"
      ]
    },
    {
      "cell_type": "code",
      "execution_count": 3,
      "metadata": {
        "id": "UfGEPRpOu5sz"
      },
      "outputs": [],
      "source": [
        "import os\n",
        "\n",
        "os.environ[\"OPENAI_API_KEY\"] = 'sk-...' # Get your API key from https://platform.openai.com/account/api-keys\n",
        "os.environ[\"LLAMA_CLOUD_API_KEY\"] = \"llx-mLNNdEXeX8BbluV1wvv9vXxkBCmeLtGGiBR6okwgBShCypIl\" # Get your API key from https://cloud.llamaindex.ai/api-key"
      ]
    },
    {
      "cell_type": "code",
      "source": [
        "!pip install llama-index-llms-azure-openai"
      ],
      "metadata": {
        "colab": {
          "base_uri": "https://localhost:8080/"
        },
        "id": "0eciV-M1aNhK",
        "outputId": "a80516ad-a4ce-46f7-f895-722073b1ac45"
      },
      "execution_count": 4,
      "outputs": [
        {
          "output_type": "stream",
          "name": "stdout",
          "text": [
            "Collecting llama-index-llms-azure-openai\n",
            "  Downloading llama_index_llms_azure_openai-0.3.0-py3-none-any.whl.metadata (4.0 kB)\n",
            "Collecting azure-identity<2.0.0,>=1.15.0 (from llama-index-llms-azure-openai)\n",
            "  Downloading azure_identity-1.19.0-py3-none-any.whl.metadata (80 kB)\n",
            "\u001b[2K     \u001b[90m━━━━━━━━━━━━━━━━━━━━━━━━━━━━━━━━━━━━━━━━\u001b[0m \u001b[32m80.6/80.6 kB\u001b[0m \u001b[31m2.4 MB/s\u001b[0m eta \u001b[36m0:00:00\u001b[0m\n",
            "\u001b[?25hRequirement already satisfied: httpx in /usr/local/lib/python3.11/dist-packages (from llama-index-llms-azure-openai) (0.28.1)\n",
            "Requirement already satisfied: llama-index-core<0.13.0,>=0.12.0 in /usr/local/lib/python3.11/dist-packages (from llama-index-llms-azure-openai) (0.12.11)\n",
            "Requirement already satisfied: llama-index-llms-openai<0.4.0,>=0.3.0 in /usr/local/lib/python3.11/dist-packages (from llama-index-llms-azure-openai) (0.3.13)\n",
            "Collecting azure-core>=1.31.0 (from azure-identity<2.0.0,>=1.15.0->llama-index-llms-azure-openai)\n",
            "  Downloading azure_core-1.32.0-py3-none-any.whl.metadata (39 kB)\n",
            "Requirement already satisfied: cryptography>=2.5 in /usr/local/lib/python3.11/dist-packages (from azure-identity<2.0.0,>=1.15.0->llama-index-llms-azure-openai) (43.0.3)\n",
            "Collecting msal>=1.30.0 (from azure-identity<2.0.0,>=1.15.0->llama-index-llms-azure-openai)\n",
            "  Downloading msal-1.31.1-py3-none-any.whl.metadata (11 kB)\n",
            "Collecting msal-extensions>=1.2.0 (from azure-identity<2.0.0,>=1.15.0->llama-index-llms-azure-openai)\n",
            "  Downloading msal_extensions-1.2.0-py3-none-any.whl.metadata (7.6 kB)\n",
            "Requirement already satisfied: typing-extensions>=4.0.0 in /usr/local/lib/python3.11/dist-packages (from azure-identity<2.0.0,>=1.15.0->llama-index-llms-azure-openai) (4.12.2)\n",
            "Requirement already satisfied: PyYAML>=6.0.1 in /usr/local/lib/python3.11/dist-packages (from llama-index-core<0.13.0,>=0.12.0->llama-index-llms-azure-openai) (6.0.2)\n",
            "Requirement already satisfied: SQLAlchemy>=1.4.49 in /usr/local/lib/python3.11/dist-packages (from SQLAlchemy[asyncio]>=1.4.49->llama-index-core<0.13.0,>=0.12.0->llama-index-llms-azure-openai) (2.0.37)\n",
            "Requirement already satisfied: aiohttp<4.0.0,>=3.8.6 in /usr/local/lib/python3.11/dist-packages (from llama-index-core<0.13.0,>=0.12.0->llama-index-llms-azure-openai) (3.11.11)\n",
            "Requirement already satisfied: dataclasses-json in /usr/local/lib/python3.11/dist-packages (from llama-index-core<0.13.0,>=0.12.0->llama-index-llms-azure-openai) (0.6.7)\n",
            "Requirement already satisfied: deprecated>=1.2.9.3 in /usr/local/lib/python3.11/dist-packages (from llama-index-core<0.13.0,>=0.12.0->llama-index-llms-azure-openai) (1.2.15)\n",
            "Requirement already satisfied: dirtyjson<2.0.0,>=1.0.8 in /usr/local/lib/python3.11/dist-packages (from llama-index-core<0.13.0,>=0.12.0->llama-index-llms-azure-openai) (1.0.8)\n",
            "Requirement already satisfied: filetype<2.0.0,>=1.2.0 in /usr/local/lib/python3.11/dist-packages (from llama-index-core<0.13.0,>=0.12.0->llama-index-llms-azure-openai) (1.2.0)\n",
            "Requirement already satisfied: fsspec>=2023.5.0 in /usr/local/lib/python3.11/dist-packages (from llama-index-core<0.13.0,>=0.12.0->llama-index-llms-azure-openai) (2024.10.0)\n",
            "Requirement already satisfied: nest-asyncio<2.0.0,>=1.5.8 in /usr/local/lib/python3.11/dist-packages (from llama-index-core<0.13.0,>=0.12.0->llama-index-llms-azure-openai) (1.6.0)\n",
            "Requirement already satisfied: networkx>=3.0 in /usr/local/lib/python3.11/dist-packages (from llama-index-core<0.13.0,>=0.12.0->llama-index-llms-azure-openai) (3.4.2)\n",
            "Requirement already satisfied: nltk>3.8.1 in /usr/local/lib/python3.11/dist-packages (from llama-index-core<0.13.0,>=0.12.0->llama-index-llms-azure-openai) (3.9.1)\n",
            "Requirement already satisfied: numpy in /usr/local/lib/python3.11/dist-packages (from llama-index-core<0.13.0,>=0.12.0->llama-index-llms-azure-openai) (1.26.4)\n",
            "Requirement already satisfied: pillow>=9.0.0 in /usr/local/lib/python3.11/dist-packages (from llama-index-core<0.13.0,>=0.12.0->llama-index-llms-azure-openai) (11.1.0)\n",
            "Requirement already satisfied: pydantic>=2.8.0 in /usr/local/lib/python3.11/dist-packages (from llama-index-core<0.13.0,>=0.12.0->llama-index-llms-azure-openai) (2.10.5)\n",
            "Requirement already satisfied: requests>=2.31.0 in /usr/local/lib/python3.11/dist-packages (from llama-index-core<0.13.0,>=0.12.0->llama-index-llms-azure-openai) (2.32.3)\n",
            "Requirement already satisfied: tenacity!=8.4.0,<10.0.0,>=8.2.0 in /usr/local/lib/python3.11/dist-packages (from llama-index-core<0.13.0,>=0.12.0->llama-index-llms-azure-openai) (9.0.0)\n",
            "Requirement already satisfied: tiktoken>=0.3.3 in /usr/local/lib/python3.11/dist-packages (from llama-index-core<0.13.0,>=0.12.0->llama-index-llms-azure-openai) (0.8.0)\n",
            "Requirement already satisfied: tqdm<5.0.0,>=4.66.1 in /usr/local/lib/python3.11/dist-packages (from llama-index-core<0.13.0,>=0.12.0->llama-index-llms-azure-openai) (4.67.1)\n",
            "Requirement already satisfied: typing-inspect>=0.8.0 in /usr/local/lib/python3.11/dist-packages (from llama-index-core<0.13.0,>=0.12.0->llama-index-llms-azure-openai) (0.9.0)\n",
            "Requirement already satisfied: wrapt in /usr/local/lib/python3.11/dist-packages (from llama-index-core<0.13.0,>=0.12.0->llama-index-llms-azure-openai) (1.17.0)\n",
            "Requirement already satisfied: openai<2.0.0,>=1.58.1 in /usr/local/lib/python3.11/dist-packages (from llama-index-llms-openai<0.4.0,>=0.3.0->llama-index-llms-azure-openai) (1.59.6)\n",
            "Requirement already satisfied: anyio in /usr/local/lib/python3.11/dist-packages (from httpx->llama-index-llms-azure-openai) (3.7.1)\n",
            "Requirement already satisfied: certifi in /usr/local/lib/python3.11/dist-packages (from httpx->llama-index-llms-azure-openai) (2024.12.14)\n",
            "Requirement already satisfied: httpcore==1.* in /usr/local/lib/python3.11/dist-packages (from httpx->llama-index-llms-azure-openai) (1.0.7)\n",
            "Requirement already satisfied: idna in /usr/local/lib/python3.11/dist-packages (from httpx->llama-index-llms-azure-openai) (3.10)\n",
            "Requirement already satisfied: h11<0.15,>=0.13 in /usr/local/lib/python3.11/dist-packages (from httpcore==1.*->httpx->llama-index-llms-azure-openai) (0.14.0)\n",
            "Requirement already satisfied: aiohappyeyeballs>=2.3.0 in /usr/local/lib/python3.11/dist-packages (from aiohttp<4.0.0,>=3.8.6->llama-index-core<0.13.0,>=0.12.0->llama-index-llms-azure-openai) (2.4.4)\n",
            "Requirement already satisfied: aiosignal>=1.1.2 in /usr/local/lib/python3.11/dist-packages (from aiohttp<4.0.0,>=3.8.6->llama-index-core<0.13.0,>=0.12.0->llama-index-llms-azure-openai) (1.3.2)\n",
            "Requirement already satisfied: attrs>=17.3.0 in /usr/local/lib/python3.11/dist-packages (from aiohttp<4.0.0,>=3.8.6->llama-index-core<0.13.0,>=0.12.0->llama-index-llms-azure-openai) (24.3.0)\n",
            "Requirement already satisfied: frozenlist>=1.1.1 in /usr/local/lib/python3.11/dist-packages (from aiohttp<4.0.0,>=3.8.6->llama-index-core<0.13.0,>=0.12.0->llama-index-llms-azure-openai) (1.5.0)\n",
            "Requirement already satisfied: multidict<7.0,>=4.5 in /usr/local/lib/python3.11/dist-packages (from aiohttp<4.0.0,>=3.8.6->llama-index-core<0.13.0,>=0.12.0->llama-index-llms-azure-openai) (6.1.0)\n",
            "Requirement already satisfied: propcache>=0.2.0 in /usr/local/lib/python3.11/dist-packages (from aiohttp<4.0.0,>=3.8.6->llama-index-core<0.13.0,>=0.12.0->llama-index-llms-azure-openai) (0.2.1)\n",
            "Requirement already satisfied: yarl<2.0,>=1.17.0 in /usr/local/lib/python3.11/dist-packages (from aiohttp<4.0.0,>=3.8.6->llama-index-core<0.13.0,>=0.12.0->llama-index-llms-azure-openai) (1.18.3)\n",
            "Requirement already satisfied: six>=1.11.0 in /usr/local/lib/python3.11/dist-packages (from azure-core>=1.31.0->azure-identity<2.0.0,>=1.15.0->llama-index-llms-azure-openai) (1.17.0)\n",
            "Requirement already satisfied: cffi>=1.12 in /usr/local/lib/python3.11/dist-packages (from cryptography>=2.5->azure-identity<2.0.0,>=1.15.0->llama-index-llms-azure-openai) (1.17.1)\n",
            "Requirement already satisfied: PyJWT<3,>=1.0.0 in /usr/local/lib/python3.11/dist-packages (from PyJWT[crypto]<3,>=1.0.0->msal>=1.30.0->azure-identity<2.0.0,>=1.15.0->llama-index-llms-azure-openai) (2.10.1)\n",
            "Collecting portalocker<3,>=1.4 (from msal-extensions>=1.2.0->azure-identity<2.0.0,>=1.15.0->llama-index-llms-azure-openai)\n",
            "  Downloading portalocker-2.10.1-py3-none-any.whl.metadata (8.5 kB)\n",
            "Requirement already satisfied: click in /usr/local/lib/python3.11/dist-packages (from nltk>3.8.1->llama-index-core<0.13.0,>=0.12.0->llama-index-llms-azure-openai) (8.1.8)\n",
            "Requirement already satisfied: joblib in /usr/local/lib/python3.11/dist-packages (from nltk>3.8.1->llama-index-core<0.13.0,>=0.12.0->llama-index-llms-azure-openai) (1.4.2)\n",
            "Requirement already satisfied: regex>=2021.8.3 in /usr/local/lib/python3.11/dist-packages (from nltk>3.8.1->llama-index-core<0.13.0,>=0.12.0->llama-index-llms-azure-openai) (2024.11.6)\n",
            "Requirement already satisfied: distro<2,>=1.7.0 in /usr/local/lib/python3.11/dist-packages (from openai<2.0.0,>=1.58.1->llama-index-llms-openai<0.4.0,>=0.3.0->llama-index-llms-azure-openai) (1.9.0)\n",
            "Requirement already satisfied: jiter<1,>=0.4.0 in /usr/local/lib/python3.11/dist-packages (from openai<2.0.0,>=1.58.1->llama-index-llms-openai<0.4.0,>=0.3.0->llama-index-llms-azure-openai) (0.8.2)\n",
            "Requirement already satisfied: sniffio in /usr/local/lib/python3.11/dist-packages (from openai<2.0.0,>=1.58.1->llama-index-llms-openai<0.4.0,>=0.3.0->llama-index-llms-azure-openai) (1.3.1)\n",
            "Requirement already satisfied: annotated-types>=0.6.0 in /usr/local/lib/python3.11/dist-packages (from pydantic>=2.8.0->llama-index-core<0.13.0,>=0.12.0->llama-index-llms-azure-openai) (0.7.0)\n",
            "Requirement already satisfied: pydantic-core==2.27.2 in /usr/local/lib/python3.11/dist-packages (from pydantic>=2.8.0->llama-index-core<0.13.0,>=0.12.0->llama-index-llms-azure-openai) (2.27.2)\n",
            "Requirement already satisfied: charset-normalizer<4,>=2 in /usr/local/lib/python3.11/dist-packages (from requests>=2.31.0->llama-index-core<0.13.0,>=0.12.0->llama-index-llms-azure-openai) (3.4.1)\n",
            "Requirement already satisfied: urllib3<3,>=1.21.1 in /usr/local/lib/python3.11/dist-packages (from requests>=2.31.0->llama-index-core<0.13.0,>=0.12.0->llama-index-llms-azure-openai) (2.3.0)\n",
            "Requirement already satisfied: greenlet!=0.4.17 in /usr/local/lib/python3.11/dist-packages (from SQLAlchemy>=1.4.49->SQLAlchemy[asyncio]>=1.4.49->llama-index-core<0.13.0,>=0.12.0->llama-index-llms-azure-openai) (3.1.1)\n",
            "Requirement already satisfied: mypy-extensions>=0.3.0 in /usr/local/lib/python3.11/dist-packages (from typing-inspect>=0.8.0->llama-index-core<0.13.0,>=0.12.0->llama-index-llms-azure-openai) (1.0.0)\n",
            "Requirement already satisfied: marshmallow<4.0.0,>=3.18.0 in /usr/local/lib/python3.11/dist-packages (from dataclasses-json->llama-index-core<0.13.0,>=0.12.0->llama-index-llms-azure-openai) (3.25.1)\n",
            "Requirement already satisfied: pycparser in /usr/local/lib/python3.11/dist-packages (from cffi>=1.12->cryptography>=2.5->azure-identity<2.0.0,>=1.15.0->llama-index-llms-azure-openai) (2.22)\n",
            "Requirement already satisfied: packaging>=17.0 in /usr/local/lib/python3.11/dist-packages (from marshmallow<4.0.0,>=3.18.0->dataclasses-json->llama-index-core<0.13.0,>=0.12.0->llama-index-llms-azure-openai) (24.2)\n",
            "Downloading llama_index_llms_azure_openai-0.3.0-py3-none-any.whl (6.3 kB)\n",
            "Downloading azure_identity-1.19.0-py3-none-any.whl (187 kB)\n",
            "\u001b[2K   \u001b[90m━━━━━━━━━━━━━━━━━━━━━━━━━━━━━━━━━━━━━━━━\u001b[0m \u001b[32m187.6/187.6 kB\u001b[0m \u001b[31m8.3 MB/s\u001b[0m eta \u001b[36m0:00:00\u001b[0m\n",
            "\u001b[?25hDownloading azure_core-1.32.0-py3-none-any.whl (198 kB)\n",
            "\u001b[2K   \u001b[90m━━━━━━━━━━━━━━━━━━━━━━━━━━━━━━━━━━━━━━━━\u001b[0m \u001b[32m198.9/198.9 kB\u001b[0m \u001b[31m15.6 MB/s\u001b[0m eta \u001b[36m0:00:00\u001b[0m\n",
            "\u001b[?25hDownloading msal-1.31.1-py3-none-any.whl (113 kB)\n",
            "\u001b[2K   \u001b[90m━━━━━━━━━━━━━━━━━━━━━━━━━━━━━━━━━━━━━━━━\u001b[0m \u001b[32m113.2/113.2 kB\u001b[0m \u001b[31m8.4 MB/s\u001b[0m eta \u001b[36m0:00:00\u001b[0m\n",
            "\u001b[?25hDownloading msal_extensions-1.2.0-py3-none-any.whl (19 kB)\n",
            "Downloading portalocker-2.10.1-py3-none-any.whl (18 kB)\n",
            "Installing collected packages: portalocker, azure-core, msal, msal-extensions, azure-identity, llama-index-llms-azure-openai\n",
            "Successfully installed azure-core-1.32.0 azure-identity-1.19.0 llama-index-llms-azure-openai-0.3.0 msal-1.31.1 msal-extensions-1.2.0 portalocker-2.10.1\n"
          ]
        }
      ]
    },
    {
      "cell_type": "markdown",
      "metadata": {
        "id": "WG7TgcTVvfZa"
      },
      "source": [
        "### Setup LLM\n",
        "\n",
        "For this demonstration, we'll use the `OpenAI` LLM, but you are free to experiment with any LLM of your choice for further exploration.\n",
        "\n",
        "\n",
        "\n",
        "\n",
        "\n",
        "\n"
      ]
    },
    {
      "cell_type": "code",
      "execution_count": 6,
      "metadata": {
        "id": "Zpmho3Oyu61_",
        "colab": {
          "base_uri": "https://localhost:8080/",
          "height": 384
        },
        "outputId": "c15df254-8182-4637-f9fa-c4503b2d2759"
      },
      "outputs": [
        {
          "output_type": "error",
          "ename": "ModuleNotFoundError",
          "evalue": "No module named 'constants'",
          "traceback": [
            "\u001b[0;31m---------------------------------------------------------------------------\u001b[0m",
            "\u001b[0;31mModuleNotFoundError\u001b[0m                       Traceback (most recent call last)",
            "\u001b[0;32m<ipython-input-6-79fca4daa3d7>\u001b[0m in \u001b[0;36m<cell line: 0>\u001b[0;34m()\u001b[0m\n\u001b[1;32m      2\u001b[0m \u001b[0;31m# from llama_index.embeddings.azure_openai import AzureOpenAIEmbedding\u001b[0m\u001b[0;34m\u001b[0m\u001b[0;34m\u001b[0m\u001b[0m\n\u001b[1;32m      3\u001b[0m \u001b[0;32mfrom\u001b[0m \u001b[0mllama_index\u001b[0m\u001b[0;34m.\u001b[0m\u001b[0mcore\u001b[0m \u001b[0;32mimport\u001b[0m \u001b[0mSettings\u001b[0m\u001b[0;34m\u001b[0m\u001b[0;34m\u001b[0m\u001b[0m\n\u001b[0;32m----> 4\u001b[0;31m \u001b[0;32mimport\u001b[0m \u001b[0mconstants\u001b[0m \u001b[0;32mas\u001b[0m \u001b[0mconst\u001b[0m\u001b[0;34m\u001b[0m\u001b[0;34m\u001b[0m\u001b[0m\n\u001b[0m\u001b[1;32m      5\u001b[0m \u001b[0;32mfrom\u001b[0m \u001b[0mutils1\u001b[0m \u001b[0;32mimport\u001b[0m \u001b[0mget_azure_token_by_model_type\u001b[0m\u001b[0;34m\u001b[0m\u001b[0;34m\u001b[0m\u001b[0m\n\u001b[1;32m      6\u001b[0m llm = AzureOpenAI(\n",
            "\u001b[0;31mModuleNotFoundError\u001b[0m: No module named 'constants'",
            "",
            "\u001b[0;31m---------------------------------------------------------------------------\u001b[0;32m\nNOTE: If your import is failing due to a missing package, you can\nmanually install dependencies using either !pip or !apt.\n\nTo view examples of installing some common dependencies, click the\n\"Open Examples\" button below.\n\u001b[0;31m---------------------------------------------------------------------------\u001b[0m\n"
          ],
          "errorDetails": {
            "actions": [
              {
                "action": "open_url",
                "actionText": "Open Examples",
                "url": "/notebooks/snippets/importing_libraries.ipynb"
              }
            ]
          }
        }
      ],
      "source": [
        "from llama_index.llms.azure_openai import AzureOpenAI\n",
        "# from llama_index.embeddings.azure_openai import AzureOpenAIEmbedding\n",
        "from llama_index.core import Settings\n",
        "import constants as const\n",
        "from utils import get_azure_token_by_model_type\n",
        "llm = AzureOpenAI(\n",
        "    deployment_name=const.DEPLOY_NAME_GPT_4o_mini,\n",
        "    api_key= get_azure_token_by_model_type(model_type=\"GPT\"),\n",
        "    azure_endpoint=\"https://openai.work.iqvia.com/cse/prod/proxy/azure/az-cs-nap-rws-openai-assets-d01\",\n",
        "    api_version=\"2024-06-01\",\n",
        ")\n",
        "Settings.llm = llm"
      ]
    },
    {
      "cell_type": "markdown",
      "metadata": {
        "id": "LLiN7v9dvjt4"
      },
      "source": [
        "### Download `arxiv` papers based on topics.\n",
        "\n",
        "For this demonstration, we will download papers related to specific research topics of interest, focusing on `RAG and Agent.`"
      ]
    },
    {
      "cell_type": "code",
      "execution_count": null,
      "metadata": {
        "id": "LvIr4v7uu8Ac"
      },
      "outputs": [],
      "source": [
        "research_paper_topics = [\"RAG\", \"Agent\"]"
      ]
    },
    {
      "cell_type": "code",
      "execution_count": null,
      "metadata": {
        "id": "rLE8qF8Ou-UO"
      },
      "outputs": [],
      "source": [
        "import arxiv\n",
        "\n",
        "from pathlib import Path\n",
        "\n",
        "def download_papers(client, topics, num_results_per_topic):\n",
        "    \"\"\"Function to download papers from arxiv for given topics and number of results per topic\"\"\"\n",
        "    for topic in topics:\n",
        "\n",
        "        # sort by recent data and with max results\n",
        "        search = arxiv.Search(\n",
        "        query = topic,\n",
        "        max_results = num_results_per_topic,\n",
        "        sort_by = arxiv.SortCriterion.SubmittedDate\n",
        "        )\n",
        "\n",
        "        # get the results\n",
        "        results = client.results(search)\n",
        "\n",
        "        # download the pdf\n",
        "        for r in results:\n",
        "            r.download_pdf()\n",
        "\n",
        "def list_pdf_files(directory):\n",
        "    # List all .pdf files using pathlib\n",
        "    pdf_files = [file.name for file in Path(directory).glob('*.pdf')]\n",
        "    return pdf_files"
      ]
    },
    {
      "cell_type": "markdown",
      "metadata": {
        "id": "BBykm1Jg5kMT"
      },
      "source": [
        "We will download three research papers for each topic."
      ]
    },
    {
      "cell_type": "code",
      "execution_count": null,
      "metadata": {
        "id": "Bo5A8lbUu-z1"
      },
      "outputs": [],
      "source": [
        "# create a client\n",
        "client = arxiv.Client()\n",
        "\n",
        "download_papers(client, research_paper_topics, 3)"
      ]
    },
    {
      "cell_type": "markdown",
      "metadata": {
        "id": "AflAIQvavwng"
      },
      "source": [
        "### Parse the documents using `LlamaParse`\n",
        "\n",
        "We'll use `LlamaParse` to parse documents with `type=markdown` because LLMs excel at interpreting the text and tables found in PDFs."
      ]
    },
    {
      "cell_type": "code",
      "execution_count": null,
      "metadata": {
        "id": "61z_nk1cvBMt"
      },
      "outputs": [],
      "source": [
        "from llama_parse import LlamaParse\n",
        "\n",
        "def parse_files(pdf_files):\n",
        "    \"\"\"Function to parse the pdf files using LlamaParse in markdown format\"\"\"\n",
        "\n",
        "    parser = LlamaParse(\n",
        "        result_type=\"markdown\",  # \"markdown\" and \"text\" are available\n",
        "        num_workers=4,  # if multiple files passed, split in `num_workers` API calls\n",
        "        verbose=True,\n",
        "    )\n",
        "\n",
        "    documents = []\n",
        "\n",
        "    for index, pdf_file in enumerate(pdf_files):\n",
        "        print(f\"Processing file {index + 1}/{len(pdf_files)}: {pdf_file}\")\n",
        "        document = parser.load_data(pdf_file)\n",
        "        documents.append(document)\n",
        "\n",
        "    return documents"
      ]
    },
    {
      "cell_type": "markdown",
      "metadata": {
        "id": "4RsxM1Zd5kMU"
      },
      "source": [
        "Parse the downloaded documents."
      ]
    },
    {
      "cell_type": "code",
      "execution_count": null,
      "metadata": {
        "id": "KUWgLD6OvCnz"
      },
      "outputs": [],
      "source": [
        "directory = './'\n",
        "pdf_files = list_pdf_files(directory)\n",
        "\n",
        "documents = parse_files(pdf_files)"
      ]
    },
    {
      "cell_type": "markdown",
      "metadata": {
        "id": "Vl85DzTewNPx"
      },
      "source": [
        "### Utils\n",
        "\n",
        "Here, we define some utilities to help us extract metadata from each document, create a LlamaCloud pipeline/index, and upload the documents to the pipeline/index.\n",
        "\n",
        "1. `Metadata` - Pydantic model to extract metadata of author names, companies and general AI tags.\n",
        "2. `get_papers_metadata` - Extracts the metadata information from the research paper.\n",
        "3. `create_llamacloud_pipeline` - Create `LlamaCloud` pipeline.\n",
        "4. `upload_documents` - Upload the research papers to `LlamaCloud` index."
      ]
    },
    {
      "cell_type": "code",
      "execution_count": null,
      "metadata": {
        "id": "TWwLAHRvvFTO"
      },
      "outputs": [],
      "source": [
        "from llama_cloud.types import CloudDocumentCreate\n",
        "from pydantic import BaseModel, Field\n",
        "from typing import List\n",
        "from llama_cloud.client import LlamaCloud\n",
        "from llama_index.core.prompts import PromptTemplate\n",
        "from llama_index.core.async_utils import run_jobs\n",
        "\n",
        "class Metadata(BaseModel):\n",
        "    \"\"\"Output containing the authors names, authors companies, and general AI tags.\"\"\"\n",
        "\n",
        "    author_names: List[str] = Field(..., description=\"List of author names of the paper. Give empty list if not available\")\n",
        "\n",
        "    author_companies: List[str] = Field(..., description=\"List of author companies of the paper. Give empty list if not available\")\n",
        "\n",
        "    ai_tags: List[str] = Field(..., description=\"List of general AI tags related to the paper. Give empty list if not available\")\n",
        "\n",
        "def create_llamacloud_pipeline(pipeline_name, embedding_config, transform_config, data_sink_id=None):\n",
        "    \"\"\"Function to create a pipeline in llamacloud\"\"\"\n",
        "\n",
        "    client = LlamaCloud(token=os.environ[\"LLAMA_CLOUD_API_KEY\"])\n",
        "\n",
        "    pipeline = {\n",
        "        'name': pipeline_name,\n",
        "        'transform_config': transform_config,\n",
        "        'embedding_config': embedding_config,\n",
        "        'data_sink_id': data_sink_id\n",
        "    }\n",
        "\n",
        "    pipeline = client.pipelines.upsert_pipeline(request=pipeline)\n",
        "\n",
        "    return client, pipeline\n",
        "\n",
        "async def get_papers_metadata(text):\n",
        "    \"\"\"Function to get the metadata from the given paper\"\"\"\n",
        "    prompt_template = PromptTemplate(\"\"\"Generate authors names, authors companies, and general top 3 AI tags for the given research paper.\n",
        "\n",
        "    Research Paper:\n",
        "\n",
        "    {text}\"\"\")\n",
        "\n",
        "    metadata = await llm.astructured_predict(\n",
        "        Metadata,\n",
        "        prompt_template,\n",
        "        text=text,\n",
        "    )\n",
        "\n",
        "    return metadata\n",
        "\n",
        "async def get_document_upload(document, llm):\n",
        "    text_for_metadata_extraction = document[0].text + document[1].text + document[2].text\n",
        "    full_text = \"\\n\\n\".join([doc.text for doc in document])\n",
        "    metadata = await get_papers_metadata(text_for_metadata_extraction)\n",
        "    return CloudDocumentCreate(\n",
        "        text=full_text,\n",
        "        metadata={\n",
        "            'author_names': metadata.author_names,\n",
        "            'author_companies': metadata.author_companies,\n",
        "            'ai_tags': metadata.ai_tags\n",
        "        }\n",
        "     )\n",
        "\n",
        "async def upload_documents(client, documents):\n",
        "    \"\"\"Function to upload the documents to the cloud\"\"\"\n",
        "\n",
        "    # Upload the documents to the cloud\n",
        "    extract_jobs = []\n",
        "    for document in documents:\n",
        "        extract_jobs.append(get_document_upload(document, llm))\n",
        "\n",
        "    document_upload_objs = await run_jobs(extract_jobs, workers=4)\n",
        "\n",
        "    _ = client.pipelines.create_batch_pipeline_documents(pipeline.id, request=document_upload_objs)"
      ]
    },
    {
      "cell_type": "markdown",
      "metadata": {
        "id": "1XHFEq0lxODG"
      },
      "source": [
        "### Create `LlamaCloud` pipeline.\n",
        "\n",
        "We will first create a `LlamaCloud` pipeline (empty index) before uploading documents. We need `embedding_config` and `transform_config` for the same.\n",
        "\n",
        "`embedding_config` - This config provides details about the embedding model and the corresponding API key used for creating embeddings during the indexing stage. Here we use OpenAI embeddings.\n",
        "\n",
        "`transform_config` - This config outlines the `chunk_size` and `chunk_overlap` parameters used during the indexing stage."
      ]
    },
    {
      "cell_type": "code",
      "execution_count": null,
      "metadata": {
        "id": "wzBupKauvG_F"
      },
      "outputs": [],
      "source": [
        "# Embedding config\n",
        "embedding_config = {\n",
        "    'type': 'OPENAI_EMBEDDING',\n",
        "    'component': {\n",
        "        'api_key': os.environ[\"OPENAI_API_KEY\"], # editable\n",
        "        'model_name': 'text-embedding-ada-002' # editable\n",
        "    }\n",
        "}\n",
        "\n",
        "# Transformation auto config\n",
        "transform_config = {\n",
        "    'mode': 'auto',\n",
        "    'config': {\n",
        "        'chunk_size': 1024,\n",
        "        'chunk_overlap': 20\n",
        "    }\n",
        "}\n",
        "\n",
        "client, pipeline = create_llamacloud_pipeline('report_generation', embedding_config, transform_config)"
      ]
    },
    {
      "cell_type": "markdown",
      "metadata": {
        "id": "Bx1-xdTAxRNF"
      },
      "source": [
        "### Upload documents to `LlamaCloud` index.\n",
        "\n",
        "Now that we have set up a pipeline (an empty index), we will upload the downloaded documents using the specified `embedding_config` and `transform_config` configurations."
      ]
    },
    {
      "cell_type": "code",
      "execution_count": null,
      "metadata": {
        "id": "tMux_8vXvIic"
      },
      "outputs": [],
      "source": [
        "await upload_documents(client, documents)"
      ]
    },
    {
      "cell_type": "markdown",
      "metadata": {
        "id": "SJSRsTC9xVNu"
      },
      "source": [
        "### Create Index and QueryEngine\n",
        "\n",
        "Let's connect to the created LlamaCloud index and build a QueryEngine to use it for report generation.\n",
        "\n",
        "We will utilize hybrid search combined with re-ranking (cohere-reranker) for this purpose."
      ]
    },
    {
      "cell_type": "code",
      "execution_count": null,
      "metadata": {
        "id": "9MtqMfOHvKQG"
      },
      "outputs": [],
      "source": [
        "from llama_index.indices.managed.llama_cloud import LlamaCloudIndex\n",
        "\n",
        "# connect to existing index\n",
        "index = LlamaCloudIndex(\n",
        "          name=\"report_generation\",\n",
        "          project_name=\"Default\",\n",
        "          api_key=os.environ['LLAMA_CLOUD_API_KEY'])\n",
        "\n",
        "query_engine = index.as_query_engine(\n",
        "  dense_similarity_top_k=10,\n",
        "  sparse_similarity_top_k=10,\n",
        "  alpha=0.5,\n",
        "  enable_reranking=True,\n",
        "  rerank_top_n = 5,\n",
        "  retrieval_mode=\"chunks\"\n",
        ")"
      ]
    },
    {
      "cell_type": "markdown",
      "metadata": {
        "id": "dPTTwZjfxYyh"
      },
      "source": [
        "### Utils to create queries for generating report based on outline.\n",
        "\n",
        "#### Sample Outline of the Report\n",
        "\n",
        "#### START OF OUTLINE OF THE REPORT\n",
        "\n",
        "```\n",
        "# Research Paper Report on RAG - Retrieval Augmented Generation and Agentic World.\n",
        "\n",
        "## 1. Introduction\n",
        "\n",
        "## 2. Retrieval Augmented Generation (RAG) and Agents\n",
        "2.1. Fundamentals of RAG and Agents.\n",
        "2.2. Current State and Applications\n",
        "\n",
        "## 3. Latest Papers:\n",
        "3.1. Paper-1 title (to be filled).\n",
        "3.2. Paper-2 title (to be filled).\n",
        "3.3. Paper-3 title (to be filled).\n",
        "\n",
        "## 4. Conclusion:\n",
        "```\n",
        "\n",
        "#### END OF OUTLINE OF THE REPORT\n",
        "\n",
        "Here is a sample outline for the report we intend to generate. We need to populate sections like   `Introduction, Retrieval Augmented Generation (RAG) and Agents`, and its sub-sections `Fundamentals of RAG and Agents`, `Current State and Applications`, and `Latest Papers`, as well as the final `Conclusion`. This can be done either by using an LLM or the LlamaCloud Index.\n",
        "\n",
        "To complete these sections, we'll need to query the index/LLM for relevant information. We will craft queries based on the sub-sections and sections within the context of the report's title. Here are some utilities to assist in this task.\n",
        "\n",
        "1. `extract_title`: Function to extract the title from the first line of the outline.\n",
        "2. `generate_query_with_llm`: Function to generate a query for a report using LLM.\n",
        "3. `classify_query`: Function to classify the query as either 'LLM' or 'INDEX' based on the query content.\n",
        "4. `parse_outline_and_generate_queries`: Function to parse the outline and generate queries for each section and subsection.\n",
        "\n",
        "**NOTE**: The utilities should be adjusted based on the specific outline of the report we are considering. This ensures that they align with the sections and sub-sections we need to populate."
      ]
    },
    {
      "cell_type": "code",
      "execution_count": null,
      "metadata": {
        "id": "L4ux_12JvN7l"
      },
      "outputs": [],
      "source": [
        "import re\n",
        "\n",
        "def extract_title(outline):\n",
        "    \"\"\"Function to extract the title from the first line of the outline\"\"\"\n",
        "\n",
        "    first_line = outline.strip().split('\\n')[0]\n",
        "    return first_line.strip('# ').strip()\n",
        "\n",
        "def generate_query_with_llm(title, section, subsection):\n",
        "    \"\"\"Function to generate a query for a report using LLM\"\"\"\n",
        "\n",
        "    prompt = f\"Generate a research query for a report on {title}. \"\n",
        "    prompt += f\"The query should be for the subsection '{subsection}' under the main section '{section}'. \"\n",
        "    prompt += \"The query should guide the research to gather relevant information for this part of the report. The query should be clear, short and concise. \"\n",
        "\n",
        "    response = llm.complete(prompt)\n",
        "\n",
        "    return str(response).strip()\n",
        "\n",
        "def classify_query(query):\n",
        "    \"\"\"Function to classify the query as either 'LLM' or 'INDEX' based on the query content\"\"\"\n",
        "\n",
        "    prompt = f\"\"\"Classify the following query as either \"LLM\" if it can be answered directly by a large language model with general knowledge, or \"INDEX\" if it likely requires querying an external index or database for specific or up-to-date information.\n",
        "\n",
        "    Query: \"{query}\"\n",
        "\n",
        "    Consider the following:\n",
        "    1. If the query asks for general knowledge, concepts, or explanations, classify as \"LLM\".\n",
        "    2. If the query asks for specific facts, recent events, or detailed information that might not be in the LLM's training data, classify as \"INDEX\".\n",
        "    3. If unsure, err on the side of \"INDEX\".\n",
        "\n",
        "    Classification:\"\"\"\n",
        "\n",
        "    classification = str(llm.complete(prompt)).strip().upper()\n",
        "\n",
        "    if classification not in [\"LLM\", \"INDEX\"]:\n",
        "        classification = \"INDEX\"  # Default to INDEX if the response is unclear\n",
        "\n",
        "    return classification\n",
        "\n",
        "def parse_outline_and_generate_queries(outline):\n",
        "    \"\"\"Function to parse the outline and generate queries for each section and subsection\"\"\"\n",
        "\n",
        "    lines = outline.strip().split('\\n')\n",
        "    title = extract_title(outline)\n",
        "    current_section = \"\"\n",
        "    queries = {}\n",
        "\n",
        "    for line in lines[1:]:  # Skip the title line\n",
        "        if line.startswith('## '):\n",
        "            current_section = line.strip('# ').strip()\n",
        "            queries[current_section] = {}\n",
        "        elif re.match(r'^\\d+\\.\\d+\\.', line):\n",
        "            subsection = line.strip()\n",
        "            query = generate_query_with_llm(title, current_section, subsection)\n",
        "            classification = classify_query(query)\n",
        "            queries[current_section][subsection] = {\"query\": query, \"classification\": classification}\n",
        "\n",
        "    # Handle sections without subsections\n",
        "    for section in queries:\n",
        "        if not queries[section]:\n",
        "            query = generate_query_with_llm(title, section, \"General overview\")\n",
        "            queries[section][\"General\"] = {\"query\": query, \"classification\": \"LLM\"}\n",
        "\n",
        "    return queries"
      ]
    },
    {
      "cell_type": "markdown",
      "metadata": {
        "id": "UQ48Oti9xfSH"
      },
      "source": [
        "### `ReportGenerationAgent`\n",
        "\n",
        "Here we create an agent to generate the final report based on the outline.\n",
        "\n",
        "Following are the steps following in generating the report.\n",
        "\n",
        "1. Generates queries to fill the report from the outline.\n",
        "2. Generates answers for the queries using LlamaCloud index.\n",
        "3. Fill back the answers to relevant parts in the report.\n",
        "4. Format the final report."
      ]
    },
    {
      "cell_type": "code",
      "execution_count": null,
      "metadata": {
        "id": "ZSlT5arMvROX"
      },
      "outputs": [],
      "source": [
        "from typing import Any, List\n",
        "from llama_index.core.llms.function_calling import FunctionCallingLLM\n",
        "from llama_index.core.workflow import Workflow, StartEvent, StopEvent, Context, step\n",
        "from llama_index.core.workflow import Event\n",
        "\n",
        "class ReportGenerationEvent(Event):\n",
        "    pass\n",
        "\n",
        "\n",
        "class ReportGenerationAgent(Workflow):\n",
        "    \"\"\"Report generation agent.\"\"\"\n",
        "\n",
        "    def __init__(\n",
        "        self,\n",
        "        query_engine: Any,\n",
        "        llm: FunctionCallingLLM | None = None,\n",
        "        **kwargs: Any,\n",
        "    ) -> None:\n",
        "        super().__init__(**kwargs)\n",
        "        self.query_engine = query_engine\n",
        "        self.llm = llm #or OpenAI(model='gpt-4o-mini')\n",
        "\n",
        "    def format_report(self, section_contents, outline):\n",
        "        \"\"\"Format the report based on the section contents.\"\"\"\n",
        "        report = \"\"\n",
        "\n",
        "        for section, subsections in section_contents.items():\n",
        "            section_match = re.match(r'^(\\d+\\.)\\s*(.*)$', section)\n",
        "            if section_match:\n",
        "                section_num, section_title = section_match.groups()\n",
        "\n",
        "                if \"introduction\" in section.lower():\n",
        "                    introduction_num, introduction_title = section_num, section_title\n",
        "                elif \"conclusion\" in section.lower():\n",
        "                    conclusion_num, conclusion_title = section_num, section_title\n",
        "                else:\n",
        "                    combined_content = \"\\n\".join(subsections.values())\n",
        "                    summary_query = f\"Provide a short summary for section '{section}':\\n\\n{combined_content}\"\n",
        "                    section_summary = str(llm.complete(summary_query))\n",
        "                    report += f\"# {section_num} {section_title}\\n\\n{section_summary}\\n\\n\"\n",
        "\n",
        "                    report = self.get_subsections_content(subsections, report)\n",
        "\n",
        "        # Add introduction\n",
        "\n",
        "        introduction_query = f\"Create an introduction for the report:\\n\\n{report}\"\n",
        "        introduction = str(self.llm.complete(introduction_query))\n",
        "        report = f\"# {introduction_num} {introduction_title}\\n\\n{introduction}\\n\\n\" + report\n",
        "\n",
        "        # Add conclusion\n",
        "\n",
        "        conclusion_query = f\"Create a conclusion for the report:\\n\\n{report}\"\n",
        "        conclusion = str(self.llm.complete(conclusion_query))\n",
        "        report += f\"# {conclusion_num} {conclusion_title}\\n\\n{conclusion}\"\n",
        "\n",
        "        # Add title\n",
        "        title = extract_title(outline)\n",
        "        report = f\"# {title}\\n\\n{report}\"\n",
        "        return report\n",
        "\n",
        "    def get_subsections_content(self, subsections, report):\n",
        "        \"\"\"Generate content for each subsection in the outline.\"\"\"\n",
        "        # Sort subsections by their keys before adding them to the report\n",
        "        for subsection in sorted(subsections.keys(), key=lambda x: re.search(r'(\\d+\\.\\d+)', x).group(1) if re.search(r'(\\d+\\.\\d+)', x) else x):\n",
        "            content = subsections[subsection]\n",
        "            subsection_match = re.search(r'(\\d+\\.\\d+)\\.\\s*(.+)', subsection)\n",
        "            if subsection_match:\n",
        "                subsection_num, subsection_title = subsection_match.groups()\n",
        "                report += f\"## {subsection_num} {subsection_title}\\n\\n{content}\\n\\n\"\n",
        "            else:\n",
        "                report += f\"## {subsection}\\n\\n{content}\\n\\n\"\n",
        "        return report\n",
        "\n",
        "    def generate_section_content(self, queries, reverse=False):\n",
        "        \"\"\"Generate content for each section and subsection in the outline.\"\"\"\n",
        "        section_contents = {}\n",
        "        for section, subsections in queries.items():\n",
        "            section_contents[section] = {}\n",
        "            subsection_keys = reversed(sorted(subsections.keys())) if reverse else sorted(subsections.keys())\n",
        "            for subsection in subsection_keys:\n",
        "                data = subsections[subsection]\n",
        "                query = data['query']\n",
        "                classification = data['classification']\n",
        "                if classification == \"LLM\":\n",
        "                    answer = str(llm.complete(query + \" Give a short answer.\"))\n",
        "                else:\n",
        "                    answer = str(query_engine.query(query))\n",
        "                section_contents[section][subsection] = answer\n",
        "        return section_contents\n",
        "\n",
        "    @step(pass_context=True)\n",
        "    async def queries_generation_event(self, ctx: Context, ev: StartEvent) -> ReportGenerationEvent:\n",
        "        \"\"\"Generate queries for the report.\"\"\"\n",
        "        ctx.data[\"outline\"] = ev.outline\n",
        "        queries = parse_outline_and_generate_queries(ctx.data[\"outline\"])\n",
        "\n",
        "        return ReportGenerationEvent(queries=queries)\n",
        "\n",
        "    @step(pass_context=True)\n",
        "    async def generate_report(\n",
        "        self, ctx: Context, ev: ReportGenerationEvent\n",
        "    ) -> StopEvent:\n",
        "        \"\"\"Generate report.\"\"\"\n",
        "\n",
        "        queries = ev.queries\n",
        "\n",
        "        # Generate contents for sections in reverse order\n",
        "        section_contents = self.generate_section_content(queries, reverse=True)\n",
        "        # Format and compile the final report\n",
        "        report = self.format_report(section_contents, ctx.data[\"outline\"])\n",
        "\n",
        "        return StopEvent(result={\"response\": report})"
      ]
    },
    {
      "cell_type": "markdown",
      "metadata": {
        "id": "NhOsBSyGyRo6"
      },
      "source": [
        "### Outline of the report.\n",
        "\n",
        "Here's the outline of the report.\n",
        "\n",
        "Please update the paper titles in the 'Latest Papers' section according to the user's interests."
      ]
    },
    {
      "cell_type": "code",
      "execution_count": null,
      "metadata": {
        "id": "-ep8LrWCvUNz"
      },
      "outputs": [],
      "source": [
        "outline = \"\"\"\n",
        "# Research Paper Report on RAG - Retrieval Augmented Generation and Agentic World.\n",
        "\n",
        "## 1. Introduction\n",
        "\n",
        "## 2. Retrieval Augmented Generation (RAG) and Agents\n",
        "2.1. Fundamentals of RAG and Agents.\n",
        "2.2. Current State and Applications\n",
        "\n",
        "## 3. Latest Papers:\n",
        "3.1. HEALTH-PARIKSHA: Assessing RAG Models for Health Chatbots in Real-World Multilingual Settings\n",
        "3.2. MIRAGE-Bench: Automatic Multilingual Benchmark Arena for Retrieval-Augmented Generation Systems\n",
        "3.3. VLM-Grounder: A VLM Agent for Zero-Shot 3D Visual Grounding\n",
        "\n",
        "## 4. Conclusion:\n",
        "\"\"\""
      ]
    },
    {
      "cell_type": "markdown",
      "metadata": {
        "id": "asup1BBSyVoo"
      },
      "source": [
        "### Generate report\n",
        "\n",
        "Now that everything is set up, we will create an agent to generate the report."
      ]
    },
    {
      "cell_type": "code",
      "execution_count": null,
      "metadata": {
        "id": "KmRkoaIFvUrt"
      },
      "outputs": [],
      "source": [
        "agent = ReportGenerationAgent(\n",
        "    query_engine=query_engine,\n",
        "    llm=llm,\n",
        "    verbose=True,\n",
        "    timeout=1200.0,\n",
        ")"
      ]
    },
    {
      "cell_type": "code",
      "execution_count": null,
      "metadata": {
        "colab": {
          "base_uri": "https://localhost:8080/"
        },
        "id": "IVa0FDMsvW7l",
        "outputId": "2b4b249f-2fd0-46e3-fff7-5add54fc43cd"
      },
      "outputs": [
        {
          "name": "stdout",
          "output_type": "stream",
          "text": [
            "Running step queries_generation_event\n",
            "Step queries_generation_event produced event ReportGenerationEvent\n",
            "Running step generate_report\n",
            "Step generate_report produced event StopEvent\n"
          ]
        }
      ],
      "source": [
        "report = await agent.run(outline=outline)"
      ]
    },
    {
      "cell_type": "code",
      "execution_count": null,
      "metadata": {
        "colab": {
          "base_uri": "https://localhost:8080/"
        },
        "id": "dChMzQ3JvYV3",
        "outputId": "e390b3ad-d074-4950-eb5e-8345a77bc42b"
      },
      "outputs": [
        {
          "name": "stdout",
          "output_type": "stream",
          "text": [
            "# Research Paper Report on RAG - Retrieval Augmented Generation and Agentic World.\n",
            "\n",
            "# 1. Introduction\n",
            "\n",
            "In this report, we delve into the advancements in Retrieval-Augmented Generation (RAG) and Agents technologies, focusing on their impact on memory recall and management in AI systems. These technologies aim to enhance response generation in dialogue agents by combining retrieval and generation-based methods, improving memory recall accuracy, and context-awareness in interactions. We also explore the latest papers in the field, including zero-shot 3D visual grounding, multilingual benchmarking for RAG systems, and the assessment of RAG models for health chatbots in real-world multilingual settings. These studies shed light on the significant performance variations, challenges, and advancements in RAG and Agents technologies, showcasing their potential in revolutionizing dialogue agents' cognitive abilities and interaction capabilities.\n",
            "\n",
            "# 2. Retrieval Augmented Generation (RAG) and Agents\n",
            "\n",
            "Overall, RAG and Agents technologies focus on improving memory recall and management in AI systems, enabling more realistic and context-aware interactions in dialogue agents. These advancements represent significant progress in the field of artificial intelligence and natural language processing, offering sophisticated solutions for enhancing dialogue agents' understanding of user interactions and their ability to engage in meaningful conversations.\n",
            "\n",
            "## 2.1 Fundamentals of RAG and Agents.\n",
            "\n",
            "The key fundamentals of Retrieval-Augmented Generation (RAG) involve combining retrieval and generation-based methods to enhance response generation in dialogue agents. RAG systems aim to improve memory recall and management by integrating temporal representations into memory vectors, allowing for more nuanced handling of temporal and contextual dynamics. These systems dynamically update memory connections using techniques like dynamic time warping and employ a propagation control mechanism to ensure efficient recall by limiting stimuli spread. In an agentic world, RAG systems interact by autonomously recalling relevant memories for response generation, managing memory significance in a temporal context similar to human memory recall, and enhancing the cognitive abilities of dialogue agents within context-aware dialogue AI systems.\n",
            "\n",
            "## 2.2 Current State and Applications\n",
            "\n",
            "RAG, or Retrieval-Augmented Generation, is a method that combines retrieval and generation-based techniques to enhance response generation in dialogue agents. It aims to improve memory recall and management in AI systems by integrating temporal representations into memory vectors. This approach allows for a more nuanced handling of temporal and contextual dynamics, leading to improved memory retrieval accuracy and context-awareness in interactions. On the other hand, Agentic World technology focuses on developing generative agents that can simulate credible human behavior by storing, organizing, and retrieving experiences to enable realistic behaviors in interactive environments. These technologies represent advancements in the field of artificial intelligence and natural language processing, offering sophisticated solutions for enhancing dialogue agents' understanding of user interactions and their ability to engage in meaningful conversations.\n",
            "\n",
            "# 3. Latest Papers:\n",
            "\n",
            "The latest papers discussed in this section focus on advancements in zero-shot 3D visual grounding, multilingual benchmarking for retrieval-augmented generation systems, and the assessment of RAG models for health chatbots in real-world multilingual settings. The VLM-Grounder agent demonstrates superior performance in zero-shot 3D visual grounding tasks without relying on 3D geometry or object priors. MIRAGE-Bench provides a comprehensive evaluation platform for multilingual RAG systems, enabling model comparison and training of learning to rank models. The study on RAG models for health chatbots reveals performance variations, lower factual correctness for non-English queries, and challenges with code-mixed and culturally relevant queries.\n",
            "\n",
            "## 3.1 HEALTH-PARIKSHA: Assessing RAG Models for Health Chatbots in Real-World Multilingual Settings\n",
            "\n",
            "The key findings in assessing RAG models for health chatbots in real-world multilingual settings, particularly in the Health-PARIKSHA project, include significant performance variations among models, lower factual correctness for responses to non-English queries compared to English queries, and the observation that instruction-tuned Indic models do not consistently perform well on Indic language queries. Additionally, the study highlighted challenges such as code-mixed and culturally relevant queries in the dataset that posed difficulties for the evaluated models.\n",
            "\n",
            "## 3.2 MIRAGE-Bench: Automatic Multilingual Benchmark Arena for Retrieval-Augmented Generation Systems\n",
            "\n",
            "MIRAGE-Bench serves as an automatic multilingual benchmark arena for retrieval-augmented generation systems in the context of RAG. It incorporates heuristic-based evaluation with an arena-based leaderboard using a trainable learning to rank model as a surrogate judge. The key features and functionalities include the ability to evaluate RAG extensively across 18 languages on Wikipedia, utilizing a standardized benchmark constructed from the MIRACL retrieval dataset. MIRAGE-Bench assesses multilingual generation by benchmarking diverse multilingual-focused LLMs, providing a synthetic arena-based leaderboard for model comparison. Additionally, it enables the training of a learning to rank model for estimating the performance of newer models without the need for an expensive LLM judge, offering better interpretability and retrainability with different heuristic features.\n",
            "\n",
            "## 3.3 VLM-Grounder: A VLM Agent for Zero-Shot 3D Visual Grounding\n",
            "\n",
            "The VLM-Grounder agent in the context of zero-shot 3D visual grounding dynamically stitches image sequences, utilizes a grounding and feedback scheme to locate the target object, and employs a multi-view ensemble projection to accurately estimate 3D bounding boxes. It operates solely based on 2D images, surpassing previous zero-shot methods in performance on benchmarks like ScanRefer and Nr3D without relying on 3D geometry or object priors. The agent excels in associating language with visual information, providing a novel framework for zero-shot 3D visual grounding tasks.\n",
            "\n",
            "# 4. Conclusion:\n",
            "\n",
            "# 4. Conclusion\n",
            "\n",
            "In conclusion, the advancements in Retrieval-Augmented Generation (RAG) and Agents technologies represent significant progress in enhancing memory recall and management in AI systems, particularly in dialogue agents. These technologies combine retrieval and generation-based methods to improve response generation, memory recall accuracy, and context-awareness in interactions. The latest papers discussed in this report highlight the diverse applications of RAG and Agents technologies, including zero-shot 3D visual grounding, multilingual benchmarking for RAG systems, and the assessment of RAG models for health chatbots in real-world multilingual settings. These studies showcase the potential of RAG and Agents technologies in revolutionizing dialogue agents' cognitive abilities and interaction capabilities, paving the way for more sophisticated and context-aware AI systems in the future.\n"
          ]
        }
      ],
      "source": [
        "print(report['response'])"
      ]
    },
    {
      "cell_type": "markdown",
      "metadata": {
        "id": "u-vdX6625kMY"
      },
      "source": [
        "### Save the final report"
      ]
    },
    {
      "cell_type": "code",
      "execution_count": null,
      "metadata": {
        "id": "BPqbUKGV5kMY"
      },
      "outputs": [],
      "source": [
        "with open(\"report.md\", \"w\") as f:\n",
        "    f.write(report['response'])"
      ]
    }
  ],
  "metadata": {
    "colab": {
      "provenance": []
    },
    "kernelspec": {
      "display_name": "llamacloud",
      "language": "python",
      "name": "llamacloud"
    },
    "language_info": {
      "codemirror_mode": {
        "name": "ipython",
        "version": 3
      },
      "file_extension": ".py",
      "mimetype": "text/x-python",
      "name": "python",
      "nbconvert_exporter": "python",
      "pygments_lexer": "ipython3",
      "version": "3.12.4"
    }
  },
  "nbformat": 4,
  "nbformat_minor": 0
}